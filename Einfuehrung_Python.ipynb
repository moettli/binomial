{
 "cells": [
  {
   "cell_type": "markdown",
   "id": "61364e04",
   "metadata": {},
   "source": [
    "# Einführung: Python\n",
    "Du wirst hier (wieder) lernen\n",
    "- wie man mit *Python* Informationen abfragt\n",
    "- wie man mit Variablen in Python arbeitet und etwas auf dem Bildschirm ausgibt\n",
    "- wie man die Steuerungselement `if` und `for` in Python-Programmen verwendet\n",
    "- wie man *Listen* erstellt\n",
    "- wie man Daten mit Diagrammen darstellt\n",
    "\n",
    "Am Ende wirst deine Kenntnisse anwenden, um die Kreiszahl $\\pi$ auf verschiedene, zum Teil sehr moderne Arten, bestimmen."
   ]
  },
  {
   "cell_type": "markdown",
   "id": "b8b36182",
   "metadata": {},
   "source": [
    "## Grundlagen für das Arbeitsblatt\n",
    "Python wird hier im sogenannten *Jupyter Notebook* ausgeführt. Der Vorteil daran ist, dass man kleine «Progrämmchen» bzw. «Code-Schnipsel» ausführen kann und nicht immer gleich an komplettes Python-Programm schreiben muss.\n",
    "Ausserdem kannst du Grafiken, Tabellen usw. direkt im Notizbuch anzeigen. Und zuletzt: Man kann auch Textbausteine (*wie diesen!*) zur Erklärung einfügen, sogar mit Formeln: $\\pi = \\frac ud$.\n",
    "### Wie man Code-Teile ausführt\n",
    "Damit dein Programmiertext ausgeführt wird, musst du in eine Zelle klicken und anschliessend `SHIFT+RETURN` oder `STRG+RETURN` drücken. Bei der ersten Möglichkeit springst du danach automatisch in die nächste Zelle, bei der zweiten Möglichkeit nicht."
   ]
  },
  {
   "cell_type": "markdown",
   "id": "142f0b7f",
   "metadata": {},
   "source": [
    "### Aufgabe:\n",
    "<a id='pkg_import'></a>\n",
    "Führe den Code in der folgenden Zelle aus: Es werden nötige Pakte importiert, die wir nachher verwenden werden."
   ]
  },
  {
   "cell_type": "code",
   "execution_count": 11,
   "id": "6a3d3737",
   "metadata": {},
   "outputs": [
    {
     "name": "stdout",
     "output_type": "stream",
     "text": [
      "Jetzt hast du alle wichtigen Pakete geladen!\n"
     ]
    }
   ],
   "source": [
    "import numpy as np # Provides calculating power for lists and matrices\n",
    "import matplotlib.pyplot as plt # Lets you produces nice graphical output\n",
    "print(\"Jetzt hast du alle wichtigen Pakete geladen!\")"
   ]
  },
  {
   "cell_type": "markdown",
   "id": "4d6336d5",
   "metadata": {},
   "source": [
    "## Daten in Python eingeben\n",
    "Mit dem Input-Befehl kannst du den Benutzer auffordern etwas einzugeben, was du dann in einer Variablen speicherst.\n",
    "Hier ein Beispiel:"
   ]
  },
  {
   "cell_type": "code",
   "execution_count": null,
   "id": "a30148a1",
   "metadata": {},
   "outputs": [],
   "source": [
    "name = input(\"Wie heisst du?: \")"
   ]
  },
  {
   "cell_type": "markdown",
   "id": "912b12d5",
   "metadata": {},
   "source": [
    "1. Die Variable wird `name` genannt \n",
    "2. `input` fordert den Benutzer zu einer Eingabe auf\n",
    "\n",
    "Jetzt kannst du die Variable `name` nutzen: Mit `print` kann man eine Bildschirmausgabe machen. Alle Textstücke (\"Strings\") müssen in Anführungszeichen `\" \"` stehen. Verschiedene Textstücke kann man mit dem `+` verknüpfen."
   ]
  },
  {
   "cell_type": "code",
   "execution_count": null,
   "id": "9670c7db",
   "metadata": {},
   "outputs": [],
   "source": [
    "print(\"Hallo \" + name + \", heute schon gut gefrühstückt?\")"
   ]
  },
  {
   "cell_type": "markdown",
   "id": "12b54bc8",
   "metadata": {},
   "source": [
    "### Aufgabe\n",
    "Frag den Benutzer nach seinem Alter und gib anschliessend eine lustige Aussage über ihn aus!"
   ]
  },
  {
   "cell_type": "code",
   "execution_count": null,
   "id": "100a4d79",
   "metadata": {},
   "outputs": [],
   "source": [
    "# Hier kommt dein Code hin (Ausführen mit STRG-RETURN)"
   ]
  },
  {
   "cell_type": "markdown",
   "id": "0bf54513",
   "metadata": {},
   "source": [
    "## `if`-Abfrage\n",
    "Mit `if` kannst du entscheidungen fällen: «Wenn ..., dann ..., sonst ...»\n",
    "\n",
    "Hier ein Beispiel:"
   ]
  },
  {
   "cell_type": "code",
   "execution_count": null,
   "id": "7058f83f",
   "metadata": {},
   "outputs": [],
   "source": [
    "zahl = int(input(\"Gib eine natürliche Zahl ein: \"))\n",
    "if zahl > 100:\n",
    "    print(\"Das ist eine GROSSE Zahl.\")\n",
    "elif zahl == 100:\n",
    "    print(\"Warum hast du genau 100 eingegeben?\")\n",
    "else:\n",
    "    print(\"Eine kleine Zahl.\")"
   ]
  },
  {
   "cell_type": "markdown",
   "id": "edc56496",
   "metadata": {},
   "source": [
    "Hier benötigst du noch zusätzlich die Funktion `int`. Sie verwandelt das Textstück, dass du eingibst in eine **ganze Zahl**."
   ]
  },
  {
   "cell_type": "markdown",
   "id": "91c8f247",
   "metadata": {},
   "source": [
    "### Beachte!\n",
    "In Python ist es wichtig, **genau auf die «Syntax» zu achten**. Vergisst du z.B. den `:` nach der Abfrage `zahl > 100`, funktioniert das Programm nicht, sondern es gibt eine **Fehlermeldung**!\n",
    "\n",
    "*Probiere es aus!*"
   ]
  },
  {
   "cell_type": "markdown",
   "id": "7480c75c",
   "metadata": {},
   "source": [
    "### Aufgabe\n",
    "Erstelle eine Abfrage nach dem Alter und gib etwas lustiges als Ausgabe aus. Dabei solltest du eine `if`-Abfrage einbauen!"
   ]
  },
  {
   "cell_type": "code",
   "execution_count": null,
   "id": "c3de5ec1",
   "metadata": {},
   "outputs": [],
   "source": [
    "# Hier kommt dein Code hin (Ausführen mit STRG-RETURN)"
   ]
  },
  {
   "cell_type": "markdown",
   "id": "18cc400c",
   "metadata": {},
   "source": [
    "## Die `for`-Schleife\n",
    "Oft müssen Abläufe in einem Computerprogramm immer und immer wieder wiederholt werden, z.B. muss der Computer in jedem Moment neu Abfragen, ob du gerade eine Taste auf der Tastatur gedrückt hast.\n",
    "\n",
    "Deshalb sind **Schleifen** so wichtig."
   ]
  },
  {
   "cell_type": "markdown",
   "id": "7526b843",
   "metadata": {},
   "source": [
    "### Beispiel: Eine Reihe von Quadratzahlen\n",
    "*Führe den folgenden Code aus, was passiert?*"
   ]
  },
  {
   "cell_type": "code",
   "execution_count": null,
   "id": "ab7cc07f",
   "metadata": {},
   "outputs": [],
   "source": [
    "for i in range(1,11):\n",
    "    n = i**2\n",
    "    print(str(i)+\" \"+str(n))"
   ]
  },
  {
   "cell_type": "markdown",
   "id": "6e3ad9b9",
   "metadata": {},
   "source": [
    "### Aufgabe\n",
    "Schreibe eine `for`-Schleife, die alle 2er-Potenzen $2^n$ für $n\\in\\{1,...,12\\}$ ausgibt."
   ]
  },
  {
   "cell_type": "code",
   "execution_count": null,
   "id": "e3618234",
   "metadata": {},
   "outputs": [],
   "source": [
    "# Hier kommt dein Code hin (Ausführen mit STRG-RETURN)"
   ]
  },
  {
   "cell_type": "markdown",
   "id": "550ec63b",
   "metadata": {},
   "source": [
    "### Listen\n",
    "\n",
    "Oft möchtest du die Zahlen, die du berechnet hast, z.B. die Zweierpotenzen, weiterverwenden. Dazu musst du diese z.B. in einer «Liste» (`list`) speichern.\n",
    "\n",
    "Es gibt zwei Möglichkeiten, eine Liste zu erstellen. \n",
    "\n",
    "1. durch Anhängen einzelner Elemente in einer Schleife\n",
    "2. durch die sogenannte `list comprehension`, eine Spezialität von Python\n",
    "\n",
    "*Führe die nachfolgenden Beispiele aus*.\n"
   ]
  },
  {
   "cell_type": "code",
   "execution_count": 6,
   "id": "47414398",
   "metadata": {},
   "outputs": [
    {
     "name": "stdout",
     "output_type": "stream",
     "text": [
      "1. Möglichkeit: \n",
      " ----------------------- \n",
      "\n",
      "2\n",
      "4\n",
      "8\n",
      "16\n",
      "32\n",
      "64\n",
      "128\n",
      "256\n",
      "512\n",
      "1024\n",
      "\n",
      "\n",
      "2. Möglichkeit: \n",
      " ----------------------- \n",
      "\n",
      "3\n",
      "9\n",
      "27\n",
      "81\n",
      "243\n",
      "729\n",
      "2187\n",
      "6561\n",
      "19683\n",
      "59049\n"
     ]
    }
   ],
   "source": [
    "# 1. Möglichkeit\n",
    "potenzen = [] \n",
    "for exponent in range(1,11):\n",
    "    potenzen.append(2**exponent)\n",
    "    \n",
    "# Ausdruck von Möglichkeit 1:\n",
    "print(\"1. Möglichkeit: \\n ----------------------- \\n\")\n",
    "for potenz in potenzen:\n",
    "    print(potenz)\n",
    "\n",
    "print(\"\\n\") #dieser print-Ausdruck erzeugt einfach einen Zeilenumbruch (n = newline)\n",
    "\n",
    "# 2. Möglichkeit    \n",
    "potenzen2 = [3**exponent for exponent in range(1,11)]\n",
    "\n",
    "print(\"2. Möglichkeit: \\n ----------------------- \\n\")\n",
    "for potenz in potenzen2:\n",
    "    print(potenz)"
   ]
  },
  {
   "cell_type": "markdown",
   "id": "8a7cd843",
   "metadata": {},
   "source": [
    "### (Vertiefung für Fortgeschrittene) Wertepaare speichern\n",
    "Wenn du auch den Exponenten speichern willst, kannst du wie im folgenden Beispiel vorgehen:"
   ]
  },
  {
   "cell_type": "code",
   "execution_count": null,
   "id": "c6e2de50",
   "metadata": {},
   "outputs": [],
   "source": [
    "wertepaare = [(n,2**n) for n in range(1,11)]\n",
    "print(wertepaare)\n",
    "for (n,p) in wertepaare:\n",
    "    print(\"2 hoch \"+str(n)+\" = \"+str(p))"
   ]
  },
  {
   "cell_type": "markdown",
   "id": "4b7d0067",
   "metadata": {},
   "source": [
    "## Werte im Koordinatensystem zeichnen\n",
    "Mit der `matplotlib`-Bibliothek kannst du einfach schöne Grafiken erzeugen: z.B. Stabdiagramme oder Diagramme im $xy$-Koordinatensystem.\n",
    "Hilfe zu `matplotlib` findest du unter anderem hier: https://matplotlib.org oder unter https://www.tutorialspoint.com/matplotlib/index.htm, wo du viele Beispiele findest.\n",
    "\n",
    "Wenn wir die Potenzen in einem $xy$-Graphen darstellen wollen, benötigen wir zwei Listen: \n",
    "1. eine Liste für die $x$-Werte\n",
    "2. eine Liste für die $y$-Werte"
   ]
  },
  {
   "cell_type": "code",
   "execution_count": null,
   "id": "5ae04e0f",
   "metadata": {},
   "outputs": [],
   "source": [
    "xwerte = range(1,11)\n",
    "ywerte = [2**n for n in range(1,11)]"
   ]
  },
  {
   "cell_type": "markdown",
   "id": "3ead98e8",
   "metadata": {},
   "source": [
    "Nun sagen wir Python, dass es die Daten zeichnen soll und beschriften die Achsen!\n",
    "\n",
    "Die Befehlt haben jetzt vorne noch das `plt.`, weil wir das Paket `matplotlib.pyplot` verwenden, was wir [ganz am Anfang](#pkg_import) `plt` genannt haben."
   ]
  },
  {
   "cell_type": "code",
   "execution_count": null,
   "id": "7a89b624",
   "metadata": {},
   "outputs": [],
   "source": [
    "plt.plot(xwerte,ywerte,\"x\",color=\"red\")\n",
    "plt.xlabel(\"Exponent\")\n",
    "plt.ylabel(\"Potenz\")\n"
   ]
  },
  {
   "cell_type": "markdown",
   "id": "edf4a3e2",
   "metadata": {},
   "source": [
    "### Aufgabe:\n",
    "Ändere den Graph etwas ab. (Kreise statt Kreuze, andere Farbe, andere Achsenbeschriftung...)\n",
    "\n",
    "Wenn du noch mehr verändern willst, kannst du [hier](https://matplotlib.org/stable/tutorials/introductory/pyplot.html) stöbern."
   ]
  },
  {
   "cell_type": "markdown",
   "id": "f5a268ca",
   "metadata": {},
   "source": [
    "### Aufgabe\n",
    "\n",
    "Erstelle einen Graphen, der die Fläche eines Kreises für verschiedene «Pizzagrössen» darstellt, $0<d<45$cm."
   ]
  },
  {
   "cell_type": "code",
   "execution_count": null,
   "id": "ba80194e",
   "metadata": {},
   "outputs": [],
   "source": []
  },
  {
   "cell_type": "markdown",
   "id": "51924680",
   "metadata": {},
   "source": [
    "*Du hast nun einige Grundlagen in Python erlernt. Nun kannst du dich noch folgenden Projekten widmen:*\n",
    "1. (***) [$\\pi$ mit Hilfe von Zufallszahlen](#pi_berechnen) berechnen\n",
    "2. (*) [Temperaturskalen](#temperaturskalen) umrechnen\n",
    "3. (**) [Brechungskurven](#brechungskurven) berechnen"
   ]
  },
  {
   "cell_type": "markdown",
   "id": "51778a24",
   "metadata": {},
   "source": [
    "## Pi mit Zufallszahlen berechnen:\n",
    "<a id='pi_berechnen'></a>\n",
    "\n",
    "Wenn man ein weiteres Paket importiert, kann man mit Zufallszahlen arbeiten: `random`"
   ]
  },
  {
   "cell_type": "code",
   "execution_count": 2,
   "id": "9d891ee8",
   "metadata": {},
   "outputs": [],
   "source": [
    "from random import random"
   ]
  },
  {
   "cell_type": "markdown",
   "id": "7cedd21f",
   "metadata": {},
   "source": [
    "Nun kann man mit `random` Zufallszahlen erzeugen:"
   ]
  },
  {
   "cell_type": "code",
   "execution_count": 3,
   "id": "84a67ebd",
   "metadata": {},
   "outputs": [],
   "source": [
    "# Beispiel 1, führe es aus\n",
    "zufallszahlen = []\n",
    "for i in range(1,10):\n",
    "    zufallszahlen.append(random())"
   ]
  },
  {
   "cell_type": "code",
   "execution_count": 4,
   "id": "86a010f6",
   "metadata": {},
   "outputs": [
    {
     "name": "stdout",
     "output_type": "stream",
     "text": [
      "0 ---> 0.2750710056470336\n",
      "1 ---> 0.6453938200737583\n",
      "2 ---> 0.3992855537241574\n",
      "3 ---> 0.054515352490567826\n",
      "4 ---> 0.35699503074559136\n",
      "5 ---> 0.39424612213491395\n",
      "6 ---> 0.3595900983640653\n",
      "7 ---> 0.6372908846008664\n",
      "8 ---> 0.6282149325193016\n"
     ]
    }
   ],
   "source": [
    "for nummer, zahl in enumerate(zufallszahlen):\n",
    "    print(nummer,\"--->\", zahl)"
   ]
  },
  {
   "cell_type": "markdown",
   "id": "32cf85e3",
   "metadata": {},
   "source": [
    "Was aber, wenn wir Zufallszahlen zwischen -1 und 1 erzeugen wollen? random() erzeugt immer Zahlen zwischen 0 und 1!\n",
    "\n",
    "Dies lässt sich lösen, wenn man sich überlegt, dass eine Zufallszahl, die zwischen 0 und 1 liegt, und die man anschliessend mit 2 multpliziert, nun zwischen 0 und 2 liegt.\n",
    "Wenn man also noch von jeder Zahl 1 abzieht, erhält man eine Zufallszahl zwischen -1 und 1.\n",
    "\n",
    "`zufallszahl zwischen -1 und 1 = random()*2 - 1`\n",
    "\n",
    "damit wir nicht immmer `random()*2-1` schreiben müssen, kann man das auch in eine **Funktion** verpacken:"
   ]
  },
  {
   "cell_type": "code",
   "execution_count": 12,
   "id": "4640797c",
   "metadata": {},
   "outputs": [],
   "source": [
    "def zufallszahl():\n",
    "    return random()*2-1"
   ]
  },
  {
   "cell_type": "markdown",
   "id": "d75b8de3",
   "metadata": {},
   "source": [
    "Jetzt können wir die selbst definierte Funktion `zufallszahl()` verwenden:"
   ]
  },
  {
   "cell_type": "code",
   "execution_count": 13,
   "id": "8c2b90d2",
   "metadata": {},
   "outputs": [],
   "source": [
    "n = 100\n",
    "xwerte = [zufallszahl() for i in range(n)]\n",
    "ywerte = [zufallszahl() for i in range(n)]\n",
    "# hier erzeugen wir Punkte (x,y) mit Koordinaten zwischen -1 und 1"
   ]
  },
  {
   "cell_type": "code",
   "execution_count": 14,
   "id": "ea63cbc2",
   "metadata": {},
   "outputs": [
    {
     "data": {
      "text/plain": [
       "[<matplotlib.lines.Line2D at 0x7f2fd5e1a100>]"
      ]
     },
     "execution_count": 14,
     "metadata": {},
     "output_type": "execute_result"
    },
    {
     "data": {
      "image/png": "[encoded data removed]",
      "text/plain": [
       "<Figure size 432x288 with 1 Axes>"
      ]
     },
     "metadata": {
      "needs_background": "light"
     },
     "output_type": "display_data"
    }
   ],
   "source": [
    "# so sehen die Punke im KOS aus:\n",
    "plt.plot(xwerte, ywerte, \"x\")"
   ]
  },
  {
   "cell_type": "markdown",
   "id": "db6848e8",
   "metadata": {},
   "source": [
    "### Pi berechnen\n",
    "\n",
    "Mit einer einfachen Idee kann man mit zufälligen Punkten (x,y) $\\pi$ berechnen!\n",
    "\n",
    "### Aufgabe\n",
    "Schaue dir das folgende Programm an. Versuche zu verstehen, was passiert"
   ]
  },
  {
   "cell_type": "code",
   "execution_count": 16,
   "id": "644c3124",
   "metadata": {},
   "outputs": [
    {
     "name": "stdout",
     "output_type": "stream",
     "text": [
      "Anteil innerhalb:  78.45 %\n"
     ]
    }
   ],
   "source": [
    "n = 100000\n",
    "n_in = 0\n",
    "for i in range(n):\n",
    "    x = random()*2-1\n",
    "    y = random()*2-1\n",
    "    if np.sqrt(x**2+y**2)<1:\n",
    "        n_in = n_in + 1\n",
    "        \n",
    "print(\"Anteil innerhalb: \", n_in/n*100, \"%\")\n"
   ]
  },
  {
   "cell_type": "markdown",
   "id": "fbb12476",
   "metadata": {},
   "source": [
    "### Aufgabe\n",
    "Versuche nun aus diesem Prozentsatz die Kreiszahl $\\pi$ zu berechnen. Hinweis: Berechne die Fläche des Quadrates und bestimme die prozentuale Fläche. "
   ]
  },
  {
   "cell_type": "code",
   "execution_count": null,
   "id": "8762486e-0316-4ef7-a2a2-f8d4f4e1f69a",
   "metadata": {},
   "outputs": [],
   "source": []
  },
  {
   "cell_type": "markdown",
   "id": "70cdd3ac",
   "metadata": {},
   "source": [
    "## Die Fahrenheit-Temperaturskala\n",
    "<a id='temperaturskala'></a>\n",
    "\n",
    "In den USA verwendet man meist das \"Fahrenheit\" als Temperatureinheit. Doch wieviel Fahrenheit sind 100°C? Wieviel sind 0°C?\n",
    "\n",
    "### Aufgabe:\n",
    "Recherchiere eine Formel, mit der man Fahrenheit in Grad Celsius umrechnen kann. Zeichne eine Umrechnungskurve ($x$-Achse: Werte in Fahrenheit, $y$-Achse: Werte in °C).\n",
    "\n",
    "\n",
    "Hierzu musst du zunächst einige x- und y-Werte berechnen."
   ]
  },
  {
   "cell_type": "code",
   "execution_count": null,
   "id": "32c1f095",
   "metadata": {},
   "outputs": [],
   "source": []
  },
  {
   "cell_type": "markdown",
   "id": "050b152e",
   "metadata": {},
   "source": [
    "## Bestimmung von Brechungskurven\n",
    "<a id='brechungskurven'></a>\n",
    "\n",
    "\n",
    "Du hast die Lichtbrechung schon kennengelernt. Um zu wissen, mit welchem Winkel zum Lot ein Strahl ins Wasser tritt, wenn er im 45°-Winkel zum Lot aus der Luft kam, musstest du Werte aus einem Diagramm (\"Brechungskurve\") auslesen.\n",
    "\n",
    "Doch wie kommen diese Kurven zustande?\n",
    "\n",
    "Entscheidend für die Brechung ist der Brechungsindex, der die optische Dichte eines Materials beschreibt. Z.B. hat Luft etwa einen Brechungsindex von $n = 1$ und Wasser einen Brechungsindex von $n=1.3$.\n",
    "\n",
    "Um die Winkel in Luft und Wasser zu berechnen, gibt es das Gesetz von SNELLIUS:\n",
    "\n",
    "\n",
    "$$ n_1 \\cdot \\sin \\alpha = n_2 \\cdot \\sin \\beta $$\n",
    "\n",
    "Dabei sind:\n",
    "\n",
    "$n_1$: Brechungsindex des Mediums, aus dem der Lichtstrahl kommt\n",
    "\n",
    "$n_2$: Brechungsindex des Mediums, in den der Lichtstrahl eintritt\n",
    "\n",
    "$\\alpha$: Einfallswinkel (zum Lot)\n",
    "\n",
    "$\\beta$: gebrochener Winkel (zum Lot)\n",
    "\n",
    "### Aufgabe:\n",
    "\n",
    "Erstelle eine Brechungskurve für den Übergang von Luft ($n_1 = 1$) zu Diamant ($n_2 = 2.4$)."
   ]
  },
  {
   "cell_type": "code",
   "execution_count": null,
   "id": "dfa955f6",
   "metadata": {},
   "outputs": [],
   "source": []
  }
 ],
 "metadata": {
  "kernelspec": {
   "display_name": "Python 3",
   "language": "python",
   "name": "python3"
  },
  "language_info": {
   "codemirror_mode": {
    "name": "ipython",
    "version": 3
   },
   "file_extension": ".py",
   "mimetype": "text/x-python",
   "name": "python",
   "nbconvert_exporter": "python",
   "pygments_lexer": "ipython3",
   "version": "3.8.8"
  }
 },
 "nbformat": 4,
 "nbformat_minor": 5
}
